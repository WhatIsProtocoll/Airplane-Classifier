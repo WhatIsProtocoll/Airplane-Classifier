{
 "cells": [
  {
   "cell_type": "markdown",
   "id": "dfc39961",
   "metadata": {},
   "source": [
    "# 0. Imports"
   ]
  },
  {
   "cell_type": "code",
   "execution_count": null,
   "id": "e9178f6e",
   "metadata": {},
   "outputs": [],
   "source": [
    "# importing necessary libraries\n",
    "import os\n",
    "import shutil\n",
    "import pandas as pd\n",
    "from collections import defaultdict\n",
    "import matplotlib.pyplot as plt\n",
    "import cv2\n",
    "from icrawler.builtin import BingImageCrawler\n",
    "import zipfile\n",
    "import urllib.request\n",
    "import tarfile\n",
    "from ultralytics import YOLO\n",
    "from tqdm import tqdm"
   ]
  },
  {
   "cell_type": "code",
   "execution_count": null,
   "id": "ab9d978e",
   "metadata": {},
   "outputs": [],
   "source": [
    "# Download and extract the dataset\n",
    "\n",
    "# Create dataset directory\n",
    "os.makedirs(\"fgvc_data\", exist_ok=True)\n",
    "\n",
    "# URL to download\n",
    "url = \"http://www.robots.ox.ac.uk/~vgg/data/fgvc-aircraft/fgvc-aircraft-2013b.tar.gz\"\n",
    "zip_path = \"fgvc_data/fgvc-aircraft-2013b.tar.gz\"\n",
    "\n",
    "# Download\n",
    "if not os.path.exists(zip_path):\n",
    "    urllib.request.urlretrieve(url, zip_path)\n",
    "    print(\"Download complete\")\n",
    "\n",
    "# Extract\n",
    "if not os.path.exists(\"fgvc_data/fgvc-aircraft-2013b\"):\n",
    "    with tarfile.open(zip_path, \"r:gz\") as tar:\n",
    "        tar.extractall(\"fgvc_data/\")\n",
    "    print(\"Extracted to fgvc_data/\")"
   ]
  },
  {
   "cell_type": "code",
   "execution_count": null,
   "id": "9b07ac03",
   "metadata": {},
   "outputs": [],
   "source": [
    "# define paths\n",
    "base_path = \"fgvc_data/fgvc-aircraft-2013b\"\n",
    "image_path = os.path.join(base_path, \"data\", \"images\")\n",
    "annotation_files = [\n",
    "    os.path.join(base_path, \"images_family_trainval.txt\"),\n",
    "    os.path.join(base_path, \"images_family_test.txt\")\n",
    "]"
   ]
  },
  {
   "cell_type": "markdown",
   "id": "f520db6e",
   "metadata": {},
   "source": [
    "# 1. Join all pictures by family"
   ]
  },
  {
   "cell_type": "code",
   "execution_count": null,
   "id": "749f062b",
   "metadata": {},
   "outputs": [],
   "source": [
    "# filtering images based on relevant aircraft families\n",
    "relevant_families = [\n",
    "    \"A320\", \"A330\", \"A380\", \"A340\",\n",
    "    \"ATR-72\",\n",
    "    \"Boeing 737\", \"Boeing 747\", \"Boeing 757\", \"Boeing 767\", \"Boeing 777\",\n",
    "    \"CRJ-700\", \"Dash 8\", \"Embraer E-Jet\"\n",
    "]\n",
    "\n",
    "\n",
    "# aggregate image files\n",
    "data = []\n",
    "for annotation_file in annotation_files:\n",
    "    with open(annotation_file, \"r\") as f:\n",
    "        lines = f.readlines()\n",
    "        for line in lines:\n",
    "            parts = line.strip().split()\n",
    "            image = parts[0]\n",
    "            family = \" \".join(parts[1:])\n",
    "            data.append((image, family))\n",
    "\n",
    "# create dataframe\n",
    "df = pd.DataFrame(data, columns=[\"image\", \"family\"])\n",
    "\n",
    "# filter df by relevant families\n",
    "df_filtered = df[df[\"family\"].isin(relevant_families)]\n",
    "print(f\"Found images: {len(df_filtered)}\")\n",
    "\n",
    "# create target directory for filtered images\n",
    "filtered_images = os.path.join(base_path, \"2_filtered_images\")\n",
    "os.makedirs(filtered_images, exist_ok=True)\n",
    "\n",
    "# copy the filtered images to the target directory\n",
    "copied = 0\n",
    "for img_name in df_filtered[\"image\"]:\n",
    "    src = os.path.join(image_path, img_name + \".jpg\")\n",
    "    dst = os.path.join(filtered_images, img_name + \".jpg\")\n",
    "    if os.path.exists(src):\n",
    "        shutil.copyfile(src, dst)\n",
    "        copied += 1\n",
    "\n",
    "print(f\"Copied {copied} images to '{filtered_images}'.\")"
   ]
  },
  {
   "cell_type": "markdown",
   "id": "861706b2",
   "metadata": {},
   "source": [
    "# 2. Organizing of files"
   ]
  },
  {
   "cell_type": "markdown",
   "id": "c2b8faac",
   "metadata": {},
   "source": [
    "#### Renaming old files from digits (123456.jpg) to family_name (Airbus_A320_0001.jpg)"
   ]
  },
  {
   "cell_type": "code",
   "execution_count": null,
   "id": "921f2005",
   "metadata": {},
   "outputs": [],
   "source": [
    "# new path for organized images\n",
    "organized_images = os.path.join(base_path, \"3_organized_images\")\n",
    "os.makedirs(organized_images, exist_ok=True)\n",
    "\n",
    "# read label mappings\n",
    "image_to_family = {}\n",
    "for annotation_file in annotation_files:\n",
    "    with open(annotation_file, \"r\") as f:\n",
    "        for line in f:\n",
    "            parts = line.strip().split()\n",
    "            image_id = parts[0]\n",
    "            family = \" \".join(parts[1:])\n",
    "            image_to_family[image_id] = family\n",
    "\n",
    "# create counters for unique filenames\n",
    "family_counters = defaultdict(int)\n",
    "\n",
    "# copy and rename images\n",
    "for image_id, family in image_to_family.items():\n",
    "    src_filename = f\"{image_id}.jpg\"\n",
    "    src_path = os.path.join(filtered_images, src_filename)\n",
    "    \n",
    "    if not os.path.exists(src_path):\n",
    "        continue  # Skip if image doesn't exist\n",
    "\n",
    "    # Sanitize family name for folder/file use\n",
    "    family_folder = family.replace(\" \", \"_\")\n",
    "    dest_folder = os.path.join(organized_images, family_folder)\n",
    "    os.makedirs(dest_folder, exist_ok=True)\n",
    "\n",
    "    family_counters[family] += 1\n",
    "    new_name = f\"{family_folder}_{family_counters[family]:04d}.jpg\"\n",
    "    dest_path = os.path.join(dest_folder, new_name)\n",
    "\n",
    "    shutil.copyfile(src_path, dest_path)\n",
    "\n",
    "print(\"Images copied and renamed into organized folders.\")"
   ]
  },
  {
   "cell_type": "markdown",
   "id": "f75ddd39",
   "metadata": {},
   "source": [
    "### Check class balance and image diversity and Sample images per class for visual diversity check "
   ]
  },
  {
   "cell_type": "markdown",
   "id": "1f377867",
   "metadata": {},
   "source": [
    "Create a dataframe first"
   ]
  },
  {
   "cell_type": "code",
   "execution_count": null,
   "id": "8f45d0aa",
   "metadata": {},
   "outputs": [],
   "source": [
    "# create a dataframe with image paths and families\n",
    "data_organized = []\n",
    "\n",
    "for family in os.listdir(organized_images):\n",
    "    family_path = os.path.join(organized_images, family)\n",
    "    if os.path.isdir(family_path):\n",
    "        for img_file in os.listdir(family_path):\n",
    "            if img_file.lower().endswith((\".jpg\", \".jpeg\", \".png\")):\n",
    "                full_path = os.path.join(family_path, img_file)  # ⬅️ now includes family in path\n",
    "                data_organized.append({\"image_path\": full_path, \"family\": family})  # family stays the same\n",
    "\n",
    "df_organized = pd.DataFrame(data_organized)\n",
    "print(df_organized.head())"
   ]
  },
  {
   "cell_type": "markdown",
   "id": "b1c29c3b",
   "metadata": {},
   "source": [
    "Check class balance"
   ]
  },
  {
   "cell_type": "code",
   "execution_count": null,
   "id": "8acd4228",
   "metadata": {},
   "outputs": [],
   "source": [
    "class_counts = df_organized[\"family\"].value_counts()\n",
    "\n",
    "# Plotting the distribution of images per family\n",
    "plt.figure(figsize=(12, 6))\n",
    "class_counts.plot(kind=\"bar\")\n",
    "plt.title(\"Number of images per airplane family\")\n",
    "plt.ylabel(\"Image count\")\n",
    "plt.xticks(rotation=45, ha='right')\n",
    "plt.tight_layout()\n",
    "plt.show()"
   ]
  },
  {
   "cell_type": "markdown",
   "id": "0742e5c8",
   "metadata": {},
   "source": [
    "Sample images to visually check diversity"
   ]
  },
  {
   "cell_type": "code",
   "execution_count": null,
   "id": "c04541ea",
   "metadata": {},
   "outputs": [],
   "source": [
    "# display 3 sample images from each family\n",
    "sampled_df = df_organized.groupby(\"family\").apply(lambda x: x.sample(min(len(x), 3))).reset_index(drop=True)\n",
    "\n",
    "for family in sampled_df[\"family\"].unique():\n",
    "    images = sampled_df[sampled_df[\"family\"] == family][\"image_path\"].values\n",
    "    plt.figure(figsize=(10, 3))\n",
    "    for i, img_path in enumerate(images):\n",
    "        img = cv2.imread(img_path)\n",
    "        img = cv2.cvtColor(img, cv2.COLOR_BGR2RGB)\n",
    "        plt.subplot(1, len(images), i+1)\n",
    "        plt.imshow(img)\n",
    "        plt.axis(\"off\")\n",
    "        plt.title(family)\n",
    "    plt.suptitle(f\"Sample images: {family}\")\n",
    "    plt.tight_layout()\n",
    "    plt.show()"
   ]
  },
  {
   "cell_type": "code",
   "execution_count": null,
   "id": "99c09f53",
   "metadata": {},
   "outputs": [],
   "source": [
    "# dictionary to track faulty images per class\n",
    "broken_per_class = defaultdict(int)\n",
    "\n",
    "# list to collect all broken image info (optional)\n",
    "broken_images = []\n",
    "\n",
    "# loop through all rows in the dataframe\n",
    "for _, row in df.iterrows():\n",
    "    img_path = row[\"image_path\"]\n",
    "    family = row[\"family\"]\n",
    "    \n",
    "    img = cv2.imread(img_path)\n",
    "    if img is None:\n",
    "        broken_per_class[family] += 1\n",
    "        broken_images.append(img_path)\n",
    "\n",
    "# display summary\n",
    "print(\"Faulty image count per class:\\n\")\n",
    "for cls, count in broken_per_class.items():\n",
    "    print(f\"{cls:20} | {count} faulty images\")\n",
    "\n",
    "print(f\"\\nTotal broken images: {len(broken_images)}\")\n",
    "\n",
    "# Optional: Remove broken images\n",
    "#for path in broken_images:\n",
    "#    os.remove(path)"
   ]
  },
  {
   "cell_type": "markdown",
   "id": "1a727e36",
   "metadata": {},
   "source": [
    "Result is: Dataset had faulty images that came from the added new images to the dataset (A350, Boeing 737 Max, Boeing 787), which were removed. It was also very skewed to the point were A320 was overrepresented (over 500), followed by A340, B747, A320 (around 300) and others below 200.\n",
    "\n",
    "Next course of action is: Align all of the classes to an image count of 200, which means downsampling "
   ]
  },
  {
   "cell_type": "markdown",
   "id": "01354bb7",
   "metadata": {},
   "source": [
    "# 3. Balance classes to 200 image counts"
   ]
  },
  {
   "cell_type": "markdown",
   "id": "8ef226e7",
   "metadata": {},
   "source": [
    "1. Remove manually all photos of airplane models, Blueprints, Renders / packaging, Toys, etc.\n",
    "2. Identify what classes need to be downsampled/upsampled, by how much?\n",
    "3. Use downloader (icrawler with license + size filters) to add the amount of missing images for underrepresented classes\n",
    "4. Check if all classes have 200 images, non-corrupt files, diverse shots (sample-wise)\n",
    "5. Come up with a augmentation strategy (randomnly crop the images before training, so that the model gets used to the cropping of YOLO)"
   ]
  },
  {
   "cell_type": "code",
   "execution_count": null,
   "id": "a5a0c1dc",
   "metadata": {},
   "outputs": [],
   "source": [
    "#1: Manually remove the unfitting images"
   ]
  },
  {
   "cell_type": "code",
   "execution_count": null,
   "id": "48637953",
   "metadata": {},
   "outputs": [],
   "source": [
    "#2: Idenfity the classes to be downsampled/upsampled\n",
    "\n",
    "balanced_images = os.path.join(base_path, \"4_balanced_images\")\n",
    "os.makedirs(balanced_images, exist_ok=True)\n",
    "\n",
    "# Define the target count for each class\n",
    "TARGET_COUNT = 200\n",
    "\n",
    "image_data = []\n",
    "missing_count = {}\n",
    "\n",
    "for family in os.listdir(organized_images):\n",
    "    class_dir = os.path.join(organized_images, family)\n",
    "    \n",
    "    if not os.path.isdir(class_dir):\n",
    "        continue\n",
    "\n",
    "    images = [img for img in os.listdir(class_dir) if img.lower().endswith(('.jpg', '.jpeg', '.png'))]\n",
    "\n",
    "    if len(images) >= TARGET_COUNT:\n",
    "        selected = pd.Series(images).sample(n=TARGET_COUNT, random_state=42)\n",
    "    else:\n",
    "        selected = pd.Series(images)\n",
    "        missing_count[family] = TARGET_COUNT - len(images)\n",
    "\n",
    "    target_class_dir = os.path.join(balanced_images, family)\n",
    "    os.makedirs(target_class_dir, exist_ok=True)\n",
    "\n",
    "    for img in selected:\n",
    "        src = os.path.join(class_dir, img)\n",
    "        dst = os.path.join(target_class_dir, img)\n",
    "        shutil.copyfile(src, dst)\n",
    "\n",
    "print(\"Balancing complete. Classes under 200:\")\n",
    "for family, missing in missing_count.items():\n",
    "    print(f\"{family:20} needs {missing} more images\")"
   ]
  },
  {
   "cell_type": "code",
   "execution_count": null,
   "id": "32744ef1",
   "metadata": {},
   "outputs": [],
   "source": [
    "# 3: Download missing images and move to temp folder\n",
    "\n",
    "# Root folder for temporary downloads\n",
    "additional_pics = os.path.join(base_path, \"3_1_add_pics\")\n",
    "os.makedirs(additional_pics, exist_ok=True)\n",
    "\n",
    "# Dictionary with classes that need images\n",
    "missing_images = {\n",
    "    \"A330\": 72,\n",
    "    \"Airbus A350\": 161,\n",
    "    \"Boeing 737 MAX\": 164,\n",
    "    \"Boeing_767\": 6,\n",
    "    \"ATR-72\": 134,\n",
    "    \"Boeing_757\": 73,\n",
    "    \"CRJ-700\": 68,\n",
    "    \"Boeing_777\": 69,\n",
    "    \"Boeing 787\": 157,\n",
    "    \"A380\": 136,\n",
    "    \"Dash_8\": 70,\n",
    "    \"Embraer_E-Jet\": 5\n",
    "}\n",
    "\n",
    "def download_aircraft_images(class_name, output_dir, num_images):\n",
    "    class_folder = class_name.replace(\" \", \"_\")\n",
    "    target_dir = os.path.join(output_dir, class_folder)\n",
    "    os.makedirs(target_dir, exist_ok=True)\n",
    "\n",
    "    print(f\" Attempting to download {num_images} images for: {class_name}\")\n",
    "\n",
    "    crawler = BingImageCrawler(storage={'root_dir': target_dir})\n",
    "    crawler.crawl(\n",
    "        keyword=class_name + \" airplane\",\n",
    "        filters={\"license\": \"commercial,modify\", \"size\": \"large\"},\n",
    "        max_num=num_images\n",
    "    )\n",
    "\n",
    "    print(f\"Download complete for: {class_name}\")\n",
    "\n",
    "# Loop through each class\n",
    "for class_name, target_amount in missing_images.items():\n",
    "    class_folder = os.path.join(additional_pics, class_name.replace(\" \", \"_\"))\n",
    "    os.makedirs(class_folder, exist_ok=True)\n",
    "\n",
    "    # Count current images\n",
    "    current_count = len([\n",
    "        f for f in os.listdir(class_folder)\n",
    "        if f.lower().endswith(('.jpg', '.jpeg', '.png'))\n",
    "    ])\n",
    "\n",
    "    # Determine how many to download\n",
    "    remaining = target_amount - current_count\n",
    "    print(f\"{class_name}: {current_count}/{target_amount} images already present. Need {remaining} more.\")\n",
    "\n",
    "    #if remaining <= 0:\n",
    "    #    print(f\"✅ {class_name}: already has {current_count}/{target_amount} images.\")\n",
    "    #    continue\n",
    "\n",
    "    #download_aircraft_images(class_name, additional_pics, remaining)"
   ]
  },
  {
   "cell_type": "markdown",
   "id": "f98d95d9",
   "metadata": {},
   "source": [
    "# 4. Enhancing the folders to match image count."
   ]
  },
  {
   "cell_type": "markdown",
   "id": "223b3a8a",
   "metadata": {},
   "source": [
    "Reached limit with iCrawler:\n",
    "+ A330: 47/72 images already present. Need 25 more.\n",
    "+ Airbus A350: 56/161 images already present. Need 105 more.\n",
    "+ Boeing 737 MAX: 29/164 images already present. Need 135 more.\n",
    "+ Boeing_767: 6/6 images already present. Need 0 more.\n",
    "+ ATR-72: 98/134 images already present. Need 36 more.\n",
    "+ Boeing_757: 47/73 images already present. Need 26 more.\n",
    "+ CRJ-700: 68/68 images already present. Need 0 more.\n",
    "+ Boeing_777: 54/69 images already present. Need 15 more.\n",
    "+ Boeing 787: 53/157 images already present. Need 104 more.\n",
    "+ A380: 24/136 images already present. Need 112 more.\n",
    "+ Dash_8: 53/70 images already present. Need 17 more.\n",
    "+ Embraer_E-Jet: 5/5 images already present. Need 0 more.\n",
    "TOTAL: 575 images to be added.\n",
    "\n",
    "**Now filter out unnecessary images that were downloaded with iCrawler, thereafter hand-pick remaining aircrafts, from www.jetphotos.com.** \n",
    "\n",
    "After hand picking out the broken/unrelevant images:\n",
    "+ A330: 33/72 images already present. Need 39 more.\n",
    "+ Airbus A350: 37/161 images already present. Need 124 more.\n",
    "+ Boeing 737 MAX: 4/164 images already present. Need 160 more.\n",
    "+ Boeing_767: 6/6 images already present. Need 0 more.\n",
    "+ ATR-72: 75/134 images already present. Need 59 more.\n",
    "+ Boeing_757: 32/73 images already present. Need 41 more.\n",
    "+ CRJ-700: 65/68 images already present. Need 3 more.\n",
    "+ Boeing_777: 32/69 images already present. Need 37 more.\n",
    "+ Boeing 787: 30/157 images already present. Need 127 more.\n",
    "+ A380: 7/136 images already present. Need 129 more.\n",
    "+ Dash_8: 32/70 images already present. Need 38 more.\n",
    "+ Embraer_E-Jet: 1/5 images already present. Need 4 more.\n",
    "TOTAL: 761 images to be added."
   ]
  },
  {
   "cell_type": "code",
   "execution_count": null,
   "id": "af25024b",
   "metadata": {},
   "outputs": [],
   "source": [
    "# Validate images in 3_1_add_pics (detect broken or unreadable images)\n",
    "\n",
    "def validate_images_in_folder(base_folder):\n",
    "    broken_images = []\n",
    "\n",
    "    for root, _, files in os.walk(base_folder):\n",
    "        for file in files:\n",
    "            if file.lower().endswith(('.jpg', '.jpeg', '.png')):\n",
    "                path = os.path.join(root, file)\n",
    "                img = cv2.imread(path)\n",
    "                if img is None:\n",
    "                    broken_images.append(path)\n",
    "                    print(f\"❌ Corrupt: {path}\")\n",
    "\n",
    "    print(f\"\\n🔍 Found {len(broken_images)} broken images.\")\n",
    "    return broken_images\n",
    "\n",
    "broken = validate_images_in_folder(balanced_images)\n",
    "print(f\"{len(broken)} broken images found.\")"
   ]
  },
  {
   "cell_type": "code",
   "execution_count": null,
   "id": "57cf085a",
   "metadata": {},
   "outputs": [],
   "source": [
    "# delete balanced_images folder for clean rebuild\n",
    "\n",
    "# shutil.rmtree(\"/Users/williamhutchinson/Local_Docs/M.Sc. WINFO/SEM3/DAT255/notebooks/assets/fgvc-aircraft/data/4_balanced_images\", ignore_errors=True)\n",
    "#print(\"🗑️  Deleted 4_balanced_images for clean rebuild.\")"
   ]
  },
  {
   "cell_type": "markdown",
   "id": "cfbd11d2",
   "metadata": {},
   "source": [
    "# 5. Moving the images to the final target folder."
   ]
  },
  {
   "cell_type": "markdown",
   "id": "91c93b03",
   "metadata": {},
   "source": [
    "Moved the additional pictures from 3_1_add_pics to 4_balanced_images to match the 200 image count per class."
   ]
  },
  {
   "cell_type": "code",
   "execution_count": null,
   "id": "6ef73c20",
   "metadata": {},
   "outputs": [],
   "source": [
    "# Move valid images to the target directory\n",
    "\n",
    "def safe_rename_images(base_dir=\"4_balanced_images\"):\n",
    "    for cls in sorted(os.listdir(base_dir)):\n",
    "        cls_path = os.path.join(base_dir, cls)\n",
    "        if not os.path.isdir(cls_path):\n",
    "            continue\n",
    "\n",
    "        files = sorted([\n",
    "            f for f in os.listdir(cls_path)\n",
    "            if f.lower().endswith(('.jpg', '.jpeg', '.png'))\n",
    "        ])\n",
    "\n",
    "        temp_names = []\n",
    "        for i, file in enumerate(files, 1):\n",
    "            ext = os.path.splitext(file)[1]\n",
    "            temp_name = f\"__temp_{i:04d}{ext}\"\n",
    "            os.rename(os.path.join(cls_path, file), os.path.join(cls_path, temp_name))\n",
    "            temp_names.append(temp_name)\n",
    "\n",
    "        for i, temp_file in enumerate(temp_names, 1):\n",
    "            ext = os.path.splitext(temp_file)[1]\n",
    "            new_name = f\"{cls}_{i:04d}{ext}\"\n",
    "            os.rename(os.path.join(cls_path, temp_file), os.path.join(cls_path, new_name))\n",
    "\n",
    "        print(f\"Safely renamed {len(files)} files in {cls}\")\n",
    "\n",
    "# Call the function\n",
    "safe_rename_images(balanced_images)"
   ]
  },
  {
   "cell_type": "code",
   "execution_count": null,
   "id": "f79a9cf7",
   "metadata": {},
   "outputs": [],
   "source": [
    "# Move valid images to the target directory\n",
    "data_balanced = []\n",
    "\n",
    "for family in sorted(os.listdir(balanced_images)):\n",
    "    family_path = os.path.join(balanced_images, family)\n",
    "    if not os.path.isdir(family_path):\n",
    "        continue\n",
    "    for img in os.listdir(family_path):\n",
    "        if img.lower().endswith(('.jpg', '.jpeg', '.png')):\n",
    "            data_balanced.append({\n",
    "                \"image_path\": os.path.join(family_path, img),\n",
    "                \"family\": family\n",
    "            })\n",
    "\n",
    "df_balanced = pd.DataFrame(data_balanced)\n",
    "\n",
    "df_balanced[\"family\"].value_counts().sort_index()"
   ]
  },
  {
   "cell_type": "markdown",
   "id": "de9e2e5f",
   "metadata": {},
   "source": [
    "# 6. Run YOLOv8 Cropping on images"
   ]
  },
  {
   "cell_type": "code",
   "execution_count": null,
   "id": "e3f9cba2",
   "metadata": {},
   "outputs": [],
   "source": [
    "classFolder = os.path.join(base_path, \"classFolder\")\n",
    "os.makedirs(classFolder, exist_ok=True)\n",
    "\n",
    "yolo_model = YOLO(\"yolov8n.pt\")\n",
    "AIRPLANE_CLASS_ID = 4\n",
    "\n",
    "# Loop through each class in the balanced images\n",
    "for class_name in os.listdir(balanced_images):\n",
    "    input_class_dir = os.path.join(balanced_images, class_name)\n",
    "    output_class_dir = os.path.join(classFolder, class_name)\n",
    "    \n",
    "    if not os.path.isdir(input_class_dir):\n",
    "        continue\n",
    "    \n",
    "    os.makedirs(output_class_dir, exist_ok=True)\n",
    "    \n",
    "    for img_file in tqdm(os.listdir(input_class_dir), desc=f\"Processing {class_name}\"):\n",
    "        if not img_file.lower().endswith((\".jpg\", \".jpeg\", \".png\")):\n",
    "            continue\n",
    "        \n",
    "        img_path = os.path.join(input_class_dir, img_file)\n",
    "        image = cv2.imread(img_path)\n",
    "        \n",
    "        if image is None:\n",
    "            print(f\" Skipped unreadable image: {img_path}\")\n",
    "            continue\n",
    "\n",
    "        # Run YOLO\n",
    "        results = yolo_model.predict(image, conf=0.25, iou=0.3)\n",
    "\n",
    "        for i, result in enumerate(results):\n",
    "            for box in result.boxes:\n",
    "                if int(box.cls[0]) == AIRPLANE_CLASS_ID:\n",
    "                    x1, y1, x2, y2 = map(int, box.xyxy[0])\n",
    "                    h, w, _ = image.shape\n",
    "                    x1, y1 = max(0, x1), max(0, y1)\n",
    "                    x2, y2 = min(w, x2), min(h, y2)\n",
    "\n",
    "                    cropped = image[y1:y2, x1:x2]\n",
    "                    if cropped.size == 0:\n",
    "                        continue\n",
    "\n",
    "                    out_path = os.path.join(output_class_dir, f\"{os.path.splitext(img_file)[0]}_crop{i}.jpg\")\n",
    "                    cv2.imwrite(out_path, cropped)"
   ]
  },
  {
   "cell_type": "markdown",
   "id": "50adeffb",
   "metadata": {},
   "source": [
    "# Result\n",
    "**Result is the creation of the folder \"classFolder\", which contains the images used for the model training.**"
   ]
  }
 ],
 "metadata": {
  "kernelspec": {
   "display_name": ".venv",
   "language": "python",
   "name": "python3"
  },
  "language_info": {
   "codemirror_mode": {
    "name": "ipython",
    "version": 3
   },
   "file_extension": ".py",
   "mimetype": "text/x-python",
   "name": "python",
   "nbconvert_exporter": "python",
   "pygments_lexer": "ipython3",
   "version": "3.12.3"
  }
 },
 "nbformat": 4,
 "nbformat_minor": 5
}
